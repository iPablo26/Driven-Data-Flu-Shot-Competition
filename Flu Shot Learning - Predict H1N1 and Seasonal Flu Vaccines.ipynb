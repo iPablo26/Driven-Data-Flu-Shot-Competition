{
 "cells": [
  {
   "cell_type": "markdown",
   "metadata": {
    "ExecuteTime": {
     "end_time": "2020-05-22T15:30:34.936083Z",
     "start_time": "2020-05-22T15:30:34.921980Z"
    }
   },
   "source": [
    "### Flu Shot Learning: Predict H1N1 and Seasonal Flu Vaccines"
   ]
  },
  {
   "cell_type": "markdown",
   "metadata": {},
   "source": [
    "#### Question or problem definition"
   ]
  },
  {
   "cell_type": "markdown",
   "metadata": {},
   "source": [
    "1. Can you predict whether people got H1N1 and seasonal flu vaccines using information they shared about their backgrounds, opinions, and health behaviors?\n",
    "\n",
    "2. Problem description:\n",
    "Your goal is to predict how likely individuals are to receive their H1N1 and seasonal flu vaccines. Specifically, you'll be predicting two probabilities: one for h1n1_vaccine and one for seasonal_vaccine.\n",
    "\n",
    "3. It looks like a classification problem in supervised machine learning"
   ]
  },
  {
   "cell_type": "markdown",
   "metadata": {},
   "source": [
    "**Additionally, I have read through the short history of the H1N1 influenza virus (Swine flu) on the competition's site**"
   ]
  },
  {
   "cell_type": "code",
   "execution_count": 1,
   "metadata": {
    "ExecuteTime": {
     "end_time": "2020-05-30T16:46:58.738143Z",
     "start_time": "2020-05-30T16:46:55.755871Z"
    }
   },
   "outputs": [],
   "source": [
    "# Modules for this project\n",
    "# data analysis and wrangling\n",
    "import pandas as pd\n",
    "import numpy as np\n",
    "import random as rnd\n",
    "\n",
    "# for visualization\n",
    "import seaborn as sns\n",
    "import matplotlib.pyplot as plt\n",
    "%matplotlib inline\n",
    "\n",
    "# machine learning algorithms for classification\n",
    "from sklearn.linear_model import LogisticRegression\n",
    "from sklearn.svm import SVC, LinearSVC\n",
    "from sklearn.ensemble import RandomForestClassifier\n",
    "from sklearn.neighbors import KNeighborsClassifier\n",
    "from sklearn.naive_bayes import GaussianNB\n",
    "from sklearn.linear_model import Perceptron\n",
    "from sklearn.linear_model import SGDClassifier\n",
    "from sklearn.tree import DecisionTreeClassifier"
   ]
  },
  {
   "cell_type": "markdown",
   "metadata": {},
   "source": [
    "**Load the datasets and preview the dataset features**\n"
   ]
  },
  {
   "cell_type": "markdown",
   "metadata": {
    "ExecuteTime": {
     "end_time": "2020-05-25T17:52:10.723218Z",
     "start_time": "2020-05-25T17:52:10.699700Z"
    }
   },
   "source": [
    "*# I need to have an idea of how the dataset looks like before reading it*"
   ]
  },
  {
   "cell_type": "code",
   "execution_count": 2,
   "metadata": {
    "ExecuteTime": {
     "end_time": "2020-05-30T16:46:58.913897Z",
     "start_time": "2020-05-30T16:46:58.742290Z"
    }
   },
   "outputs": [
    {
     "name": "stdout",
     "output_type": "stream",
     "text": [
      "respondent_id,h1n1_concern,h1n1_knowledge,behavioral_antiviral_meds,behavioral_avoidance,behavioral_face_mask,behavioral_wash_hands,behavioral_large_gatherings,behavioral_outside_home,behavioral_touch_face,doctor_recc_h1n1,doctor_recc_seasonal,chronic_med_condition,child_under_6_months,health_worker,health_insurance,opinion_h1n1_vacc_effective,opinion_h1n1_risk,opinion_h1n1_sick_from_vacc,opinion_seas_vacc_effective,opinion_seas_risk,opinion_seas_sick_from_vacc,age_group,education,race,sex,income_poverty,marital_status,rent_or_own,employment_status,hhs_geo_region,census_msa,household_adults,household_children,employment_industry,employment_occupation\r\n",
      "0,1,0,0,0,0,0,0,1,1,0,0,0,0,0,1,3,1,2,2,1,2,55 - 64 Years,< 12 Years,White,Female,Below Poverty,Not Married,Own,Not in Labor Force,oxchjgsf,Non-MSA,0,0,,\r\n",
      "1,3,2,0,1,0,1,0,1,1,0,0,0,0,0,1,5,4,4,4,2,4,35 - 44 Years,12 Years,White,Male,Below Poverty,Not Married,Rent,Employed,bhuqouqj,\"MSA, Not Principle  City\",0,0,pxcmvdjn,xgwztkwe\r\n",
      "2,1,1,0,1,0,0,0,0,0,,,1,0,0,,3,1,1,4,1,2,18 - 34 Years,College Graduate,White,Male,\"<= $75,000, Above Poverty\",Not Married,Own,Employed,qufhixun,\"MSA, Not Principle  City\",2,0,rucpziij,xtkaffoo\r\n"
     ]
    }
   ],
   "source": [
    "!head -4 training_set_features.csv"
   ]
  },
  {
   "cell_type": "markdown",
   "metadata": {},
   "source": [
    "**# Preview of the training features**"
   ]
  },
  {
   "cell_type": "code",
   "execution_count": 3,
   "metadata": {
    "ExecuteTime": {
     "end_time": "2020-05-30T16:46:59.519204Z",
     "start_time": "2020-05-30T16:46:58.923034Z"
    }
   },
   "outputs": [
    {
     "data": {
      "text/html": [
       "<div>\n",
       "<style scoped>\n",
       "    .dataframe tbody tr th:only-of-type {\n",
       "        vertical-align: middle;\n",
       "    }\n",
       "\n",
       "    .dataframe tbody tr th {\n",
       "        vertical-align: top;\n",
       "    }\n",
       "\n",
       "    .dataframe thead th {\n",
       "        text-align: right;\n",
       "    }\n",
       "</style>\n",
       "<table border=\"1\" class=\"dataframe\">\n",
       "  <thead>\n",
       "    <tr style=\"text-align: right;\">\n",
       "      <th></th>\n",
       "      <th>respondent_id</th>\n",
       "      <th>h1n1_concern</th>\n",
       "      <th>h1n1_knowledge</th>\n",
       "      <th>behavioral_antiviral_meds</th>\n",
       "      <th>behavioral_avoidance</th>\n",
       "      <th>behavioral_face_mask</th>\n",
       "      <th>behavioral_wash_hands</th>\n",
       "      <th>behavioral_large_gatherings</th>\n",
       "      <th>behavioral_outside_home</th>\n",
       "      <th>behavioral_touch_face</th>\n",
       "      <th>...</th>\n",
       "      <th>income_poverty</th>\n",
       "      <th>marital_status</th>\n",
       "      <th>rent_or_own</th>\n",
       "      <th>employment_status</th>\n",
       "      <th>hhs_geo_region</th>\n",
       "      <th>census_msa</th>\n",
       "      <th>household_adults</th>\n",
       "      <th>household_children</th>\n",
       "      <th>employment_industry</th>\n",
       "      <th>employment_occupation</th>\n",
       "    </tr>\n",
       "  </thead>\n",
       "  <tbody>\n",
       "    <tr>\n",
       "      <th>0</th>\n",
       "      <td>0</td>\n",
       "      <td>1.0</td>\n",
       "      <td>0.0</td>\n",
       "      <td>0.0</td>\n",
       "      <td>0.0</td>\n",
       "      <td>0.0</td>\n",
       "      <td>0.0</td>\n",
       "      <td>0.0</td>\n",
       "      <td>1.0</td>\n",
       "      <td>1.0</td>\n",
       "      <td>...</td>\n",
       "      <td>Below Poverty</td>\n",
       "      <td>Not Married</td>\n",
       "      <td>Own</td>\n",
       "      <td>Not in Labor Force</td>\n",
       "      <td>oxchjgsf</td>\n",
       "      <td>Non-MSA</td>\n",
       "      <td>0.0</td>\n",
       "      <td>0.0</td>\n",
       "      <td>NaN</td>\n",
       "      <td>NaN</td>\n",
       "    </tr>\n",
       "    <tr>\n",
       "      <th>1</th>\n",
       "      <td>1</td>\n",
       "      <td>3.0</td>\n",
       "      <td>2.0</td>\n",
       "      <td>0.0</td>\n",
       "      <td>1.0</td>\n",
       "      <td>0.0</td>\n",
       "      <td>1.0</td>\n",
       "      <td>0.0</td>\n",
       "      <td>1.0</td>\n",
       "      <td>1.0</td>\n",
       "      <td>...</td>\n",
       "      <td>Below Poverty</td>\n",
       "      <td>Not Married</td>\n",
       "      <td>Rent</td>\n",
       "      <td>Employed</td>\n",
       "      <td>bhuqouqj</td>\n",
       "      <td>MSA, Not Principle  City</td>\n",
       "      <td>0.0</td>\n",
       "      <td>0.0</td>\n",
       "      <td>pxcmvdjn</td>\n",
       "      <td>xgwztkwe</td>\n",
       "    </tr>\n",
       "    <tr>\n",
       "      <th>2</th>\n",
       "      <td>2</td>\n",
       "      <td>1.0</td>\n",
       "      <td>1.0</td>\n",
       "      <td>0.0</td>\n",
       "      <td>1.0</td>\n",
       "      <td>0.0</td>\n",
       "      <td>0.0</td>\n",
       "      <td>0.0</td>\n",
       "      <td>0.0</td>\n",
       "      <td>0.0</td>\n",
       "      <td>...</td>\n",
       "      <td>&lt;= $75,000, Above Poverty</td>\n",
       "      <td>Not Married</td>\n",
       "      <td>Own</td>\n",
       "      <td>Employed</td>\n",
       "      <td>qufhixun</td>\n",
       "      <td>MSA, Not Principle  City</td>\n",
       "      <td>2.0</td>\n",
       "      <td>0.0</td>\n",
       "      <td>rucpziij</td>\n",
       "      <td>xtkaffoo</td>\n",
       "    </tr>\n",
       "    <tr>\n",
       "      <th>3</th>\n",
       "      <td>3</td>\n",
       "      <td>1.0</td>\n",
       "      <td>1.0</td>\n",
       "      <td>0.0</td>\n",
       "      <td>1.0</td>\n",
       "      <td>0.0</td>\n",
       "      <td>1.0</td>\n",
       "      <td>1.0</td>\n",
       "      <td>0.0</td>\n",
       "      <td>0.0</td>\n",
       "      <td>...</td>\n",
       "      <td>Below Poverty</td>\n",
       "      <td>Not Married</td>\n",
       "      <td>Rent</td>\n",
       "      <td>Not in Labor Force</td>\n",
       "      <td>lrircsnp</td>\n",
       "      <td>MSA, Principle City</td>\n",
       "      <td>0.0</td>\n",
       "      <td>0.0</td>\n",
       "      <td>NaN</td>\n",
       "      <td>NaN</td>\n",
       "    </tr>\n",
       "    <tr>\n",
       "      <th>4</th>\n",
       "      <td>4</td>\n",
       "      <td>2.0</td>\n",
       "      <td>1.0</td>\n",
       "      <td>0.0</td>\n",
       "      <td>1.0</td>\n",
       "      <td>0.0</td>\n",
       "      <td>1.0</td>\n",
       "      <td>1.0</td>\n",
       "      <td>0.0</td>\n",
       "      <td>1.0</td>\n",
       "      <td>...</td>\n",
       "      <td>&lt;= $75,000, Above Poverty</td>\n",
       "      <td>Married</td>\n",
       "      <td>Own</td>\n",
       "      <td>Employed</td>\n",
       "      <td>qufhixun</td>\n",
       "      <td>MSA, Not Principle  City</td>\n",
       "      <td>1.0</td>\n",
       "      <td>0.0</td>\n",
       "      <td>wxleyezf</td>\n",
       "      <td>emcorrxb</td>\n",
       "    </tr>\n",
       "  </tbody>\n",
       "</table>\n",
       "<p>5 rows × 36 columns</p>\n",
       "</div>"
      ],
      "text/plain": [
       "   respondent_id  h1n1_concern  h1n1_knowledge  behavioral_antiviral_meds  \\\n",
       "0              0           1.0             0.0                        0.0   \n",
       "1              1           3.0             2.0                        0.0   \n",
       "2              2           1.0             1.0                        0.0   \n",
       "3              3           1.0             1.0                        0.0   \n",
       "4              4           2.0             1.0                        0.0   \n",
       "\n",
       "   behavioral_avoidance  behavioral_face_mask  behavioral_wash_hands  \\\n",
       "0                   0.0                   0.0                    0.0   \n",
       "1                   1.0                   0.0                    1.0   \n",
       "2                   1.0                   0.0                    0.0   \n",
       "3                   1.0                   0.0                    1.0   \n",
       "4                   1.0                   0.0                    1.0   \n",
       "\n",
       "   behavioral_large_gatherings  behavioral_outside_home  \\\n",
       "0                          0.0                      1.0   \n",
       "1                          0.0                      1.0   \n",
       "2                          0.0                      0.0   \n",
       "3                          1.0                      0.0   \n",
       "4                          1.0                      0.0   \n",
       "\n",
       "   behavioral_touch_face  ...             income_poverty  marital_status  \\\n",
       "0                    1.0  ...              Below Poverty     Not Married   \n",
       "1                    1.0  ...              Below Poverty     Not Married   \n",
       "2                    0.0  ...  <= $75,000, Above Poverty     Not Married   \n",
       "3                    0.0  ...              Below Poverty     Not Married   \n",
       "4                    1.0  ...  <= $75,000, Above Poverty         Married   \n",
       "\n",
       "   rent_or_own   employment_status  hhs_geo_region                census_msa  \\\n",
       "0          Own  Not in Labor Force        oxchjgsf                   Non-MSA   \n",
       "1         Rent            Employed        bhuqouqj  MSA, Not Principle  City   \n",
       "2          Own            Employed        qufhixun  MSA, Not Principle  City   \n",
       "3         Rent  Not in Labor Force        lrircsnp       MSA, Principle City   \n",
       "4          Own            Employed        qufhixun  MSA, Not Principle  City   \n",
       "\n",
       "   household_adults  household_children  employment_industry  \\\n",
       "0               0.0                 0.0                  NaN   \n",
       "1               0.0                 0.0             pxcmvdjn   \n",
       "2               2.0                 0.0             rucpziij   \n",
       "3               0.0                 0.0                  NaN   \n",
       "4               1.0                 0.0             wxleyezf   \n",
       "\n",
       "   employment_occupation  \n",
       "0                    NaN  \n",
       "1               xgwztkwe  \n",
       "2               xtkaffoo  \n",
       "3                    NaN  \n",
       "4               emcorrxb  \n",
       "\n",
       "[5 rows x 36 columns]"
      ]
     },
     "execution_count": 3,
     "metadata": {},
     "output_type": "execute_result"
    }
   ],
   "source": [
    "flushotTrainData = pd.read_csv('training_set_features.csv')\n",
    "flushotTrainData.head()"
   ]
  },
  {
   "cell_type": "markdown",
   "metadata": {},
   "source": [
    "**For this competition, there are two target variables:**\n",
    "\n",
    "*1. h1n1_vaccine - Whether respondent received H1N1 flu vaccine.*\n",
    "\n",
    "*2. seasonal_vaccine - Whether respondent received seasonal flu vaccine.*"
   ]
  },
  {
   "cell_type": "code",
   "execution_count": 4,
   "metadata": {
    "ExecuteTime": {
     "end_time": "2020-05-30T16:46:59.591811Z",
     "start_time": "2020-05-30T16:46:59.529058Z"
    }
   },
   "outputs": [
    {
     "data": {
      "text/html": [
       "<div>\n",
       "<style scoped>\n",
       "    .dataframe tbody tr th:only-of-type {\n",
       "        vertical-align: middle;\n",
       "    }\n",
       "\n",
       "    .dataframe tbody tr th {\n",
       "        vertical-align: top;\n",
       "    }\n",
       "\n",
       "    .dataframe thead th {\n",
       "        text-align: right;\n",
       "    }\n",
       "</style>\n",
       "<table border=\"1\" class=\"dataframe\">\n",
       "  <thead>\n",
       "    <tr style=\"text-align: right;\">\n",
       "      <th></th>\n",
       "      <th>respondent_id</th>\n",
       "      <th>h1n1_vaccine</th>\n",
       "      <th>seasonal_vaccine</th>\n",
       "    </tr>\n",
       "  </thead>\n",
       "  <tbody>\n",
       "    <tr>\n",
       "      <th>0</th>\n",
       "      <td>0</td>\n",
       "      <td>0</td>\n",
       "      <td>0</td>\n",
       "    </tr>\n",
       "    <tr>\n",
       "      <th>1</th>\n",
       "      <td>1</td>\n",
       "      <td>0</td>\n",
       "      <td>1</td>\n",
       "    </tr>\n",
       "    <tr>\n",
       "      <th>2</th>\n",
       "      <td>2</td>\n",
       "      <td>0</td>\n",
       "      <td>0</td>\n",
       "    </tr>\n",
       "    <tr>\n",
       "      <th>3</th>\n",
       "      <td>3</td>\n",
       "      <td>0</td>\n",
       "      <td>1</td>\n",
       "    </tr>\n",
       "    <tr>\n",
       "      <th>4</th>\n",
       "      <td>4</td>\n",
       "      <td>0</td>\n",
       "      <td>0</td>\n",
       "    </tr>\n",
       "  </tbody>\n",
       "</table>\n",
       "</div>"
      ],
      "text/plain": [
       "   respondent_id  h1n1_vaccine  seasonal_vaccine\n",
       "0              0             0                 0\n",
       "1              1             0                 1\n",
       "2              2             0                 0\n",
       "3              3             0                 1\n",
       "4              4             0                 0"
      ]
     },
     "execution_count": 4,
     "metadata": {},
     "output_type": "execute_result"
    }
   ],
   "source": [
    "flushotDataLabels = pd.read_csv('training_set_labels.csv')\n",
    "flushotDataLabels.head()"
   ]
  },
  {
   "cell_type": "markdown",
   "metadata": {},
   "source": [
    "**Preview of the test data features**"
   ]
  },
  {
   "cell_type": "code",
   "execution_count": 5,
   "metadata": {
    "ExecuteTime": {
     "end_time": "2020-05-30T16:47:00.127320Z",
     "start_time": "2020-05-30T16:46:59.595288Z"
    }
   },
   "outputs": [
    {
     "data": {
      "text/html": [
       "<div>\n",
       "<style scoped>\n",
       "    .dataframe tbody tr th:only-of-type {\n",
       "        vertical-align: middle;\n",
       "    }\n",
       "\n",
       "    .dataframe tbody tr th {\n",
       "        vertical-align: top;\n",
       "    }\n",
       "\n",
       "    .dataframe thead th {\n",
       "        text-align: right;\n",
       "    }\n",
       "</style>\n",
       "<table border=\"1\" class=\"dataframe\">\n",
       "  <thead>\n",
       "    <tr style=\"text-align: right;\">\n",
       "      <th></th>\n",
       "      <th>respondent_id</th>\n",
       "      <th>h1n1_concern</th>\n",
       "      <th>h1n1_knowledge</th>\n",
       "      <th>behavioral_antiviral_meds</th>\n",
       "      <th>behavioral_avoidance</th>\n",
       "      <th>behavioral_face_mask</th>\n",
       "      <th>behavioral_wash_hands</th>\n",
       "      <th>behavioral_large_gatherings</th>\n",
       "      <th>behavioral_outside_home</th>\n",
       "      <th>behavioral_touch_face</th>\n",
       "      <th>...</th>\n",
       "      <th>income_poverty</th>\n",
       "      <th>marital_status</th>\n",
       "      <th>rent_or_own</th>\n",
       "      <th>employment_status</th>\n",
       "      <th>hhs_geo_region</th>\n",
       "      <th>census_msa</th>\n",
       "      <th>household_adults</th>\n",
       "      <th>household_children</th>\n",
       "      <th>employment_industry</th>\n",
       "      <th>employment_occupation</th>\n",
       "    </tr>\n",
       "  </thead>\n",
       "  <tbody>\n",
       "    <tr>\n",
       "      <th>0</th>\n",
       "      <td>26707</td>\n",
       "      <td>2.0</td>\n",
       "      <td>2.0</td>\n",
       "      <td>0.0</td>\n",
       "      <td>1.0</td>\n",
       "      <td>0.0</td>\n",
       "      <td>1.0</td>\n",
       "      <td>1.0</td>\n",
       "      <td>0.0</td>\n",
       "      <td>1.0</td>\n",
       "      <td>...</td>\n",
       "      <td>&gt; $75,000</td>\n",
       "      <td>Not Married</td>\n",
       "      <td>Rent</td>\n",
       "      <td>Employed</td>\n",
       "      <td>mlyzmhmf</td>\n",
       "      <td>MSA, Not Principle  City</td>\n",
       "      <td>1.0</td>\n",
       "      <td>0.0</td>\n",
       "      <td>atmlpfrs</td>\n",
       "      <td>hfxkjkmi</td>\n",
       "    </tr>\n",
       "    <tr>\n",
       "      <th>1</th>\n",
       "      <td>26708</td>\n",
       "      <td>1.0</td>\n",
       "      <td>1.0</td>\n",
       "      <td>0.0</td>\n",
       "      <td>0.0</td>\n",
       "      <td>0.0</td>\n",
       "      <td>0.0</td>\n",
       "      <td>0.0</td>\n",
       "      <td>0.0</td>\n",
       "      <td>0.0</td>\n",
       "      <td>...</td>\n",
       "      <td>Below Poverty</td>\n",
       "      <td>Not Married</td>\n",
       "      <td>Rent</td>\n",
       "      <td>Employed</td>\n",
       "      <td>bhuqouqj</td>\n",
       "      <td>Non-MSA</td>\n",
       "      <td>3.0</td>\n",
       "      <td>0.0</td>\n",
       "      <td>atmlpfrs</td>\n",
       "      <td>xqwwgdyp</td>\n",
       "    </tr>\n",
       "    <tr>\n",
       "      <th>2</th>\n",
       "      <td>26709</td>\n",
       "      <td>2.0</td>\n",
       "      <td>2.0</td>\n",
       "      <td>0.0</td>\n",
       "      <td>0.0</td>\n",
       "      <td>1.0</td>\n",
       "      <td>1.0</td>\n",
       "      <td>1.0</td>\n",
       "      <td>1.0</td>\n",
       "      <td>1.0</td>\n",
       "      <td>...</td>\n",
       "      <td>&gt; $75,000</td>\n",
       "      <td>Married</td>\n",
       "      <td>Own</td>\n",
       "      <td>Employed</td>\n",
       "      <td>lrircsnp</td>\n",
       "      <td>Non-MSA</td>\n",
       "      <td>1.0</td>\n",
       "      <td>0.0</td>\n",
       "      <td>nduyfdeo</td>\n",
       "      <td>pvmttkik</td>\n",
       "    </tr>\n",
       "    <tr>\n",
       "      <th>3</th>\n",
       "      <td>26710</td>\n",
       "      <td>1.0</td>\n",
       "      <td>1.0</td>\n",
       "      <td>0.0</td>\n",
       "      <td>0.0</td>\n",
       "      <td>0.0</td>\n",
       "      <td>0.0</td>\n",
       "      <td>0.0</td>\n",
       "      <td>0.0</td>\n",
       "      <td>0.0</td>\n",
       "      <td>...</td>\n",
       "      <td>&lt;= $75,000, Above Poverty</td>\n",
       "      <td>Married</td>\n",
       "      <td>Own</td>\n",
       "      <td>Not in Labor Force</td>\n",
       "      <td>lrircsnp</td>\n",
       "      <td>MSA, Not Principle  City</td>\n",
       "      <td>1.0</td>\n",
       "      <td>0.0</td>\n",
       "      <td>NaN</td>\n",
       "      <td>NaN</td>\n",
       "    </tr>\n",
       "    <tr>\n",
       "      <th>4</th>\n",
       "      <td>26711</td>\n",
       "      <td>3.0</td>\n",
       "      <td>1.0</td>\n",
       "      <td>1.0</td>\n",
       "      <td>1.0</td>\n",
       "      <td>0.0</td>\n",
       "      <td>1.0</td>\n",
       "      <td>1.0</td>\n",
       "      <td>1.0</td>\n",
       "      <td>1.0</td>\n",
       "      <td>...</td>\n",
       "      <td>&lt;= $75,000, Above Poverty</td>\n",
       "      <td>Not Married</td>\n",
       "      <td>Own</td>\n",
       "      <td>Employed</td>\n",
       "      <td>lzgpxyit</td>\n",
       "      <td>Non-MSA</td>\n",
       "      <td>0.0</td>\n",
       "      <td>1.0</td>\n",
       "      <td>fcxhlnwr</td>\n",
       "      <td>mxkfnird</td>\n",
       "    </tr>\n",
       "  </tbody>\n",
       "</table>\n",
       "<p>5 rows × 36 columns</p>\n",
       "</div>"
      ],
      "text/plain": [
       "   respondent_id  h1n1_concern  h1n1_knowledge  behavioral_antiviral_meds  \\\n",
       "0          26707           2.0             2.0                        0.0   \n",
       "1          26708           1.0             1.0                        0.0   \n",
       "2          26709           2.0             2.0                        0.0   \n",
       "3          26710           1.0             1.0                        0.0   \n",
       "4          26711           3.0             1.0                        1.0   \n",
       "\n",
       "   behavioral_avoidance  behavioral_face_mask  behavioral_wash_hands  \\\n",
       "0                   1.0                   0.0                    1.0   \n",
       "1                   0.0                   0.0                    0.0   \n",
       "2                   0.0                   1.0                    1.0   \n",
       "3                   0.0                   0.0                    0.0   \n",
       "4                   1.0                   0.0                    1.0   \n",
       "\n",
       "   behavioral_large_gatherings  behavioral_outside_home  \\\n",
       "0                          1.0                      0.0   \n",
       "1                          0.0                      0.0   \n",
       "2                          1.0                      1.0   \n",
       "3                          0.0                      0.0   \n",
       "4                          1.0                      1.0   \n",
       "\n",
       "   behavioral_touch_face  ...             income_poverty  marital_status  \\\n",
       "0                    1.0  ...                  > $75,000     Not Married   \n",
       "1                    0.0  ...              Below Poverty     Not Married   \n",
       "2                    1.0  ...                  > $75,000         Married   \n",
       "3                    0.0  ...  <= $75,000, Above Poverty         Married   \n",
       "4                    1.0  ...  <= $75,000, Above Poverty     Not Married   \n",
       "\n",
       "   rent_or_own   employment_status  hhs_geo_region                census_msa  \\\n",
       "0         Rent            Employed        mlyzmhmf  MSA, Not Principle  City   \n",
       "1         Rent            Employed        bhuqouqj                   Non-MSA   \n",
       "2          Own            Employed        lrircsnp                   Non-MSA   \n",
       "3          Own  Not in Labor Force        lrircsnp  MSA, Not Principle  City   \n",
       "4          Own            Employed        lzgpxyit                   Non-MSA   \n",
       "\n",
       "   household_adults  household_children  employment_industry  \\\n",
       "0               1.0                 0.0             atmlpfrs   \n",
       "1               3.0                 0.0             atmlpfrs   \n",
       "2               1.0                 0.0             nduyfdeo   \n",
       "3               1.0                 0.0                  NaN   \n",
       "4               0.0                 1.0             fcxhlnwr   \n",
       "\n",
       "   employment_occupation  \n",
       "0               hfxkjkmi  \n",
       "1               xqwwgdyp  \n",
       "2               pvmttkik  \n",
       "3                    NaN  \n",
       "4               mxkfnird  \n",
       "\n",
       "[5 rows x 36 columns]"
      ]
     },
     "execution_count": 5,
     "metadata": {},
     "output_type": "execute_result"
    }
   ],
   "source": [
    "flushotTestData = pd.read_csv('test_set_features.csv')\n",
    "flushotTestData.head()"
   ]
  },
  {
   "cell_type": "code",
   "execution_count": 6,
   "metadata": {
    "ExecuteTime": {
     "end_time": "2020-05-30T16:47:00.156286Z",
     "start_time": "2020-05-30T16:47:00.131038Z"
    }
   },
   "outputs": [
    {
     "data": {
      "text/plain": [
       "(26707, 36)"
      ]
     },
     "execution_count": 6,
     "metadata": {},
     "output_type": "execute_result"
    }
   ],
   "source": [
    "flushotTrainData.shape"
   ]
  },
  {
   "cell_type": "code",
   "execution_count": 7,
   "metadata": {
    "ExecuteTime": {
     "end_time": "2020-05-30T16:47:00.191817Z",
     "start_time": "2020-05-30T16:47:00.172569Z"
    }
   },
   "outputs": [
    {
     "data": {
      "text/plain": [
       "(26708, 36)"
      ]
     },
     "execution_count": 7,
     "metadata": {},
     "output_type": "execute_result"
    }
   ],
   "source": [
    "flushotTestData.shape"
   ]
  },
  {
   "cell_type": "markdown",
   "metadata": {},
   "source": [
    "**The training set has 26,707 observations and 35 features, taking away the index column**\n",
    "\n",
    "**The test set has 26,708 observations and 35 features, taking away the index column**"
   ]
  },
  {
   "cell_type": "code",
   "execution_count": 8,
   "metadata": {
    "ExecuteTime": {
     "end_time": "2020-05-30T16:47:00.217487Z",
     "start_time": "2020-05-30T16:47:00.206392Z"
    }
   },
   "outputs": [
    {
     "data": {
      "text/plain": [
       "list"
      ]
     },
     "execution_count": 8,
     "metadata": {},
     "output_type": "execute_result"
    }
   ],
   "source": [
    "combinedDataset = [flushotTrainData, flushotTestData]\n",
    "type(combinedDataset)"
   ]
  },
  {
   "cell_type": "markdown",
   "metadata": {},
   "source": [
    "**Features available in the training dataset**"
   ]
  },
  {
   "cell_type": "code",
   "execution_count": 9,
   "metadata": {
    "ExecuteTime": {
     "end_time": "2020-05-30T16:47:00.240651Z",
     "start_time": "2020-05-30T16:47:00.227770Z"
    }
   },
   "outputs": [
    {
     "name": "stdout",
     "output_type": "stream",
     "text": [
      "Index(['respondent_id', 'h1n1_concern', 'h1n1_knowledge',\n",
      "       'behavioral_antiviral_meds', 'behavioral_avoidance',\n",
      "       'behavioral_face_mask', 'behavioral_wash_hands',\n",
      "       'behavioral_large_gatherings', 'behavioral_outside_home',\n",
      "       'behavioral_touch_face', 'doctor_recc_h1n1', 'doctor_recc_seasonal',\n",
      "       'chronic_med_condition', 'child_under_6_months', 'health_worker',\n",
      "       'health_insurance', 'opinion_h1n1_vacc_effective', 'opinion_h1n1_risk',\n",
      "       'opinion_h1n1_sick_from_vacc', 'opinion_seas_vacc_effective',\n",
      "       'opinion_seas_risk', 'opinion_seas_sick_from_vacc', 'age_group',\n",
      "       'education', 'race', 'sex', 'income_poverty', 'marital_status',\n",
      "       'rent_or_own', 'employment_status', 'hhs_geo_region', 'census_msa',\n",
      "       'household_adults', 'household_children', 'employment_industry',\n",
      "       'employment_occupation'],\n",
      "      dtype='object')\n"
     ]
    }
   ],
   "source": [
    "print(flushotTrainData.columns)"
   ]
  },
  {
   "cell_type": "markdown",
   "metadata": {},
   "source": [
    "**Which features are categorical and or numerical?**\n",
    "\n",
    "*A categorical variable is a variable that can take on one of a limited, and usually fixed, number of possible values, assigning each individual or other unit of observation to a particular group or nominal category on the basis of some qualitative property.*\n",
    "\n",
    "*A numerical variable is a variable where the measurement or number has a numerical meaning*"
   ]
  },
  {
   "cell_type": "code",
   "execution_count": 10,
   "metadata": {
    "ExecuteTime": {
     "end_time": "2020-05-30T16:47:00.268784Z",
     "start_time": "2020-05-30T16:47:00.249233Z"
    }
   },
   "outputs": [
    {
     "data": {
      "text/plain": [
       "respondent_id                    int64\n",
       "h1n1_concern                   float64\n",
       "h1n1_knowledge                 float64\n",
       "behavioral_antiviral_meds      float64\n",
       "behavioral_avoidance           float64\n",
       "behavioral_face_mask           float64\n",
       "behavioral_wash_hands          float64\n",
       "behavioral_large_gatherings    float64\n",
       "behavioral_outside_home        float64\n",
       "behavioral_touch_face          float64\n",
       "doctor_recc_h1n1               float64\n",
       "doctor_recc_seasonal           float64\n",
       "chronic_med_condition          float64\n",
       "child_under_6_months           float64\n",
       "health_worker                  float64\n",
       "health_insurance               float64\n",
       "opinion_h1n1_vacc_effective    float64\n",
       "opinion_h1n1_risk              float64\n",
       "opinion_h1n1_sick_from_vacc    float64\n",
       "opinion_seas_vacc_effective    float64\n",
       "opinion_seas_risk              float64\n",
       "opinion_seas_sick_from_vacc    float64\n",
       "age_group                       object\n",
       "education                       object\n",
       "race                            object\n",
       "sex                             object\n",
       "income_poverty                  object\n",
       "marital_status                  object\n",
       "rent_or_own                     object\n",
       "employment_status               object\n",
       "hhs_geo_region                  object\n",
       "census_msa                      object\n",
       "household_adults               float64\n",
       "household_children             float64\n",
       "employment_industry             object\n",
       "employment_occupation           object\n",
       "dtype: object"
      ]
     },
     "execution_count": 10,
     "metadata": {},
     "output_type": "execute_result"
    }
   ],
   "source": [
    "flushotTrainData.dtypes"
   ]
  },
  {
   "cell_type": "code",
   "execution_count": 11,
   "metadata": {
    "ExecuteTime": {
     "end_time": "2020-05-30T16:47:00.335926Z",
     "start_time": "2020-05-30T16:47:00.273682Z"
    }
   },
   "outputs": [
    {
     "name": "stdout",
     "output_type": "stream",
     "text": [
      "<class 'pandas.core.frame.DataFrame'>\n",
      "RangeIndex: 26707 entries, 0 to 26706\n",
      "Data columns (total 36 columns):\n",
      " #   Column                       Non-Null Count  Dtype  \n",
      "---  ------                       --------------  -----  \n",
      " 0   respondent_id                26707 non-null  int64  \n",
      " 1   h1n1_concern                 26615 non-null  float64\n",
      " 2   h1n1_knowledge               26591 non-null  float64\n",
      " 3   behavioral_antiviral_meds    26636 non-null  float64\n",
      " 4   behavioral_avoidance         26499 non-null  float64\n",
      " 5   behavioral_face_mask         26688 non-null  float64\n",
      " 6   behavioral_wash_hands        26665 non-null  float64\n",
      " 7   behavioral_large_gatherings  26620 non-null  float64\n",
      " 8   behavioral_outside_home      26625 non-null  float64\n",
      " 9   behavioral_touch_face        26579 non-null  float64\n",
      " 10  doctor_recc_h1n1             24547 non-null  float64\n",
      " 11  doctor_recc_seasonal         24547 non-null  float64\n",
      " 12  chronic_med_condition        25736 non-null  float64\n",
      " 13  child_under_6_months         25887 non-null  float64\n",
      " 14  health_worker                25903 non-null  float64\n",
      " 15  health_insurance             14433 non-null  float64\n",
      " 16  opinion_h1n1_vacc_effective  26316 non-null  float64\n",
      " 17  opinion_h1n1_risk            26319 non-null  float64\n",
      " 18  opinion_h1n1_sick_from_vacc  26312 non-null  float64\n",
      " 19  opinion_seas_vacc_effective  26245 non-null  float64\n",
      " 20  opinion_seas_risk            26193 non-null  float64\n",
      " 21  opinion_seas_sick_from_vacc  26170 non-null  float64\n",
      " 22  age_group                    26707 non-null  object \n",
      " 23  education                    25300 non-null  object \n",
      " 24  race                         26707 non-null  object \n",
      " 25  sex                          26707 non-null  object \n",
      " 26  income_poverty               22284 non-null  object \n",
      " 27  marital_status               25299 non-null  object \n",
      " 28  rent_or_own                  24665 non-null  object \n",
      " 29  employment_status            25244 non-null  object \n",
      " 30  hhs_geo_region               26707 non-null  object \n",
      " 31  census_msa                   26707 non-null  object \n",
      " 32  household_adults             26458 non-null  float64\n",
      " 33  household_children           26458 non-null  float64\n",
      " 34  employment_industry          13377 non-null  object \n",
      " 35  employment_occupation        13237 non-null  object \n",
      "dtypes: float64(23), int64(1), object(12)\n",
      "memory usage: 7.3+ MB\n"
     ]
    }
   ],
   "source": [
    "flushotTrainData.info()"
   ]
  },
  {
   "cell_type": "code",
   "execution_count": 12,
   "metadata": {
    "ExecuteTime": {
     "end_time": "2020-05-30T16:47:00.350467Z",
     "start_time": "2020-05-30T16:47:00.339835Z"
    }
   },
   "outputs": [
    {
     "data": {
      "text/plain": [
       "0         NaN\n",
       "1    pxcmvdjn\n",
       "2    rucpziij\n",
       "3         NaN\n",
       "4    wxleyezf\n",
       "Name: employment_industry, dtype: object"
      ]
     },
     "execution_count": 12,
     "metadata": {},
     "output_type": "execute_result"
    }
   ],
   "source": [
    "flushotTrainData['employment_industry'].head()"
   ]
  },
  {
   "cell_type": "markdown",
   "metadata": {},
   "source": [
    "**Numerical variables**\n",
    "\n",
    "**Like earlier stated, because the value of column is numerical does not translate that column as being a numerical variable**\n"
   ]
  },
  {
   "cell_type": "markdown",
   "metadata": {},
   "source": [
    "**Categorical variables**\n",
    "\n",
    "**The training set has a prevalence of categorical data**"
   ]
  },
  {
   "cell_type": "markdown",
   "metadata": {},
   "source": [
    "*Let me check the label data and make some confirmation*\n",
    "\n",
    "**The label data contains the two target variables**"
   ]
  },
  {
   "cell_type": "code",
   "execution_count": 13,
   "metadata": {
    "ExecuteTime": {
     "end_time": "2020-05-30T16:47:00.366319Z",
     "start_time": "2020-05-30T16:47:00.355737Z"
    }
   },
   "outputs": [
    {
     "data": {
      "text/plain": [
       "(26707, 3)"
      ]
     },
     "execution_count": 13,
     "metadata": {},
     "output_type": "execute_result"
    }
   ],
   "source": [
    "flushotDataLabels.shape"
   ]
  },
  {
   "cell_type": "markdown",
   "metadata": {},
   "source": [
    "**Its the same number of rows as the feature sets**\n",
    "\n",
    "**Let's double-check that the rows between the features and the labels match up. We don't want to have the wrong labels. Numpy's assert_array_equal will error if the two arrays—the row indices of the two data frames—don't match up.**\n",
    "\n",
    "*It amazing to learn new stuff*"
   ]
  },
  {
   "cell_type": "code",
   "execution_count": 14,
   "metadata": {
    "ExecuteTime": {
     "end_time": "2020-05-30T16:47:00.378734Z",
     "start_time": "2020-05-30T16:47:00.370558Z"
    }
   },
   "outputs": [],
   "source": [
    "np.testing.assert_array_equal(flushotTrainData.index.values, flushotDataLabels.index.values)"
   ]
  },
  {
   "cell_type": "markdown",
   "metadata": {},
   "source": [
    "**What is the distribution of feature values across the training set?**\n",
    "\n",
    "**Which columns have missing values?**\n",
    "\n",
    "**Using the describe function on a dataset helps you eyeball a few observations**\n",
    "\n",
    "*Like the count let's you know the likely-hood of missing values in a column, the variability of the column values, the distribution of values in percentiles etc** "
   ]
  },
  {
   "cell_type": "code",
   "execution_count": 15,
   "metadata": {
    "ExecuteTime": {
     "end_time": "2020-05-30T16:47:00.648940Z",
     "start_time": "2020-05-30T16:47:00.382534Z"
    }
   },
   "outputs": [
    {
     "data": {
      "text/html": [
       "<div>\n",
       "<style scoped>\n",
       "    .dataframe tbody tr th:only-of-type {\n",
       "        vertical-align: middle;\n",
       "    }\n",
       "\n",
       "    .dataframe tbody tr th {\n",
       "        vertical-align: top;\n",
       "    }\n",
       "\n",
       "    .dataframe thead th {\n",
       "        text-align: right;\n",
       "    }\n",
       "</style>\n",
       "<table border=\"1\" class=\"dataframe\">\n",
       "  <thead>\n",
       "    <tr style=\"text-align: right;\">\n",
       "      <th></th>\n",
       "      <th>respondent_id</th>\n",
       "      <th>h1n1_concern</th>\n",
       "      <th>h1n1_knowledge</th>\n",
       "      <th>behavioral_antiviral_meds</th>\n",
       "      <th>behavioral_avoidance</th>\n",
       "      <th>behavioral_face_mask</th>\n",
       "      <th>behavioral_wash_hands</th>\n",
       "      <th>behavioral_large_gatherings</th>\n",
       "      <th>behavioral_outside_home</th>\n",
       "      <th>behavioral_touch_face</th>\n",
       "      <th>...</th>\n",
       "      <th>health_worker</th>\n",
       "      <th>health_insurance</th>\n",
       "      <th>opinion_h1n1_vacc_effective</th>\n",
       "      <th>opinion_h1n1_risk</th>\n",
       "      <th>opinion_h1n1_sick_from_vacc</th>\n",
       "      <th>opinion_seas_vacc_effective</th>\n",
       "      <th>opinion_seas_risk</th>\n",
       "      <th>opinion_seas_sick_from_vacc</th>\n",
       "      <th>household_adults</th>\n",
       "      <th>household_children</th>\n",
       "    </tr>\n",
       "  </thead>\n",
       "  <tbody>\n",
       "    <tr>\n",
       "      <th>count</th>\n",
       "      <td>26707.000000</td>\n",
       "      <td>26615.000000</td>\n",
       "      <td>26591.000000</td>\n",
       "      <td>26636.000000</td>\n",
       "      <td>26499.000000</td>\n",
       "      <td>26688.000000</td>\n",
       "      <td>26665.000000</td>\n",
       "      <td>26620.00000</td>\n",
       "      <td>26625.000000</td>\n",
       "      <td>26579.000000</td>\n",
       "      <td>...</td>\n",
       "      <td>25903.000000</td>\n",
       "      <td>14433.00000</td>\n",
       "      <td>26316.000000</td>\n",
       "      <td>26319.000000</td>\n",
       "      <td>26312.000000</td>\n",
       "      <td>26245.000000</td>\n",
       "      <td>26193.000000</td>\n",
       "      <td>26170.000000</td>\n",
       "      <td>26458.000000</td>\n",
       "      <td>26458.000000</td>\n",
       "    </tr>\n",
       "    <tr>\n",
       "      <th>mean</th>\n",
       "      <td>13353.000000</td>\n",
       "      <td>1.618486</td>\n",
       "      <td>1.262532</td>\n",
       "      <td>0.048844</td>\n",
       "      <td>0.725612</td>\n",
       "      <td>0.068982</td>\n",
       "      <td>0.825614</td>\n",
       "      <td>0.35864</td>\n",
       "      <td>0.337315</td>\n",
       "      <td>0.677264</td>\n",
       "      <td>...</td>\n",
       "      <td>0.111918</td>\n",
       "      <td>0.87972</td>\n",
       "      <td>3.850623</td>\n",
       "      <td>2.342566</td>\n",
       "      <td>2.357670</td>\n",
       "      <td>4.025986</td>\n",
       "      <td>2.719162</td>\n",
       "      <td>2.118112</td>\n",
       "      <td>0.886499</td>\n",
       "      <td>0.534583</td>\n",
       "    </tr>\n",
       "    <tr>\n",
       "      <th>std</th>\n",
       "      <td>7709.791156</td>\n",
       "      <td>0.910311</td>\n",
       "      <td>0.618149</td>\n",
       "      <td>0.215545</td>\n",
       "      <td>0.446214</td>\n",
       "      <td>0.253429</td>\n",
       "      <td>0.379448</td>\n",
       "      <td>0.47961</td>\n",
       "      <td>0.472802</td>\n",
       "      <td>0.467531</td>\n",
       "      <td>...</td>\n",
       "      <td>0.315271</td>\n",
       "      <td>0.32530</td>\n",
       "      <td>1.007436</td>\n",
       "      <td>1.285539</td>\n",
       "      <td>1.362766</td>\n",
       "      <td>1.086565</td>\n",
       "      <td>1.385055</td>\n",
       "      <td>1.332950</td>\n",
       "      <td>0.753422</td>\n",
       "      <td>0.928173</td>\n",
       "    </tr>\n",
       "    <tr>\n",
       "      <th>min</th>\n",
       "      <td>0.000000</td>\n",
       "      <td>0.000000</td>\n",
       "      <td>0.000000</td>\n",
       "      <td>0.000000</td>\n",
       "      <td>0.000000</td>\n",
       "      <td>0.000000</td>\n",
       "      <td>0.000000</td>\n",
       "      <td>0.00000</td>\n",
       "      <td>0.000000</td>\n",
       "      <td>0.000000</td>\n",
       "      <td>...</td>\n",
       "      <td>0.000000</td>\n",
       "      <td>0.00000</td>\n",
       "      <td>1.000000</td>\n",
       "      <td>1.000000</td>\n",
       "      <td>1.000000</td>\n",
       "      <td>1.000000</td>\n",
       "      <td>1.000000</td>\n",
       "      <td>1.000000</td>\n",
       "      <td>0.000000</td>\n",
       "      <td>0.000000</td>\n",
       "    </tr>\n",
       "    <tr>\n",
       "      <th>25%</th>\n",
       "      <td>6676.500000</td>\n",
       "      <td>1.000000</td>\n",
       "      <td>1.000000</td>\n",
       "      <td>0.000000</td>\n",
       "      <td>0.000000</td>\n",
       "      <td>0.000000</td>\n",
       "      <td>1.000000</td>\n",
       "      <td>0.00000</td>\n",
       "      <td>0.000000</td>\n",
       "      <td>0.000000</td>\n",
       "      <td>...</td>\n",
       "      <td>0.000000</td>\n",
       "      <td>1.00000</td>\n",
       "      <td>3.000000</td>\n",
       "      <td>1.000000</td>\n",
       "      <td>1.000000</td>\n",
       "      <td>4.000000</td>\n",
       "      <td>2.000000</td>\n",
       "      <td>1.000000</td>\n",
       "      <td>0.000000</td>\n",
       "      <td>0.000000</td>\n",
       "    </tr>\n",
       "    <tr>\n",
       "      <th>50%</th>\n",
       "      <td>13353.000000</td>\n",
       "      <td>2.000000</td>\n",
       "      <td>1.000000</td>\n",
       "      <td>0.000000</td>\n",
       "      <td>1.000000</td>\n",
       "      <td>0.000000</td>\n",
       "      <td>1.000000</td>\n",
       "      <td>0.00000</td>\n",
       "      <td>0.000000</td>\n",
       "      <td>1.000000</td>\n",
       "      <td>...</td>\n",
       "      <td>0.000000</td>\n",
       "      <td>1.00000</td>\n",
       "      <td>4.000000</td>\n",
       "      <td>2.000000</td>\n",
       "      <td>2.000000</td>\n",
       "      <td>4.000000</td>\n",
       "      <td>2.000000</td>\n",
       "      <td>2.000000</td>\n",
       "      <td>1.000000</td>\n",
       "      <td>0.000000</td>\n",
       "    </tr>\n",
       "    <tr>\n",
       "      <th>75%</th>\n",
       "      <td>20029.500000</td>\n",
       "      <td>2.000000</td>\n",
       "      <td>2.000000</td>\n",
       "      <td>0.000000</td>\n",
       "      <td>1.000000</td>\n",
       "      <td>0.000000</td>\n",
       "      <td>1.000000</td>\n",
       "      <td>1.00000</td>\n",
       "      <td>1.000000</td>\n",
       "      <td>1.000000</td>\n",
       "      <td>...</td>\n",
       "      <td>0.000000</td>\n",
       "      <td>1.00000</td>\n",
       "      <td>5.000000</td>\n",
       "      <td>4.000000</td>\n",
       "      <td>4.000000</td>\n",
       "      <td>5.000000</td>\n",
       "      <td>4.000000</td>\n",
       "      <td>4.000000</td>\n",
       "      <td>1.000000</td>\n",
       "      <td>1.000000</td>\n",
       "    </tr>\n",
       "    <tr>\n",
       "      <th>max</th>\n",
       "      <td>26706.000000</td>\n",
       "      <td>3.000000</td>\n",
       "      <td>2.000000</td>\n",
       "      <td>1.000000</td>\n",
       "      <td>1.000000</td>\n",
       "      <td>1.000000</td>\n",
       "      <td>1.000000</td>\n",
       "      <td>1.00000</td>\n",
       "      <td>1.000000</td>\n",
       "      <td>1.000000</td>\n",
       "      <td>...</td>\n",
       "      <td>1.000000</td>\n",
       "      <td>1.00000</td>\n",
       "      <td>5.000000</td>\n",
       "      <td>5.000000</td>\n",
       "      <td>5.000000</td>\n",
       "      <td>5.000000</td>\n",
       "      <td>5.000000</td>\n",
       "      <td>5.000000</td>\n",
       "      <td>3.000000</td>\n",
       "      <td>3.000000</td>\n",
       "    </tr>\n",
       "  </tbody>\n",
       "</table>\n",
       "<p>8 rows × 24 columns</p>\n",
       "</div>"
      ],
      "text/plain": [
       "       respondent_id  h1n1_concern  h1n1_knowledge  behavioral_antiviral_meds  \\\n",
       "count   26707.000000  26615.000000    26591.000000               26636.000000   \n",
       "mean    13353.000000      1.618486        1.262532                   0.048844   \n",
       "std      7709.791156      0.910311        0.618149                   0.215545   \n",
       "min         0.000000      0.000000        0.000000                   0.000000   \n",
       "25%      6676.500000      1.000000        1.000000                   0.000000   \n",
       "50%     13353.000000      2.000000        1.000000                   0.000000   \n",
       "75%     20029.500000      2.000000        2.000000                   0.000000   \n",
       "max     26706.000000      3.000000        2.000000                   1.000000   \n",
       "\n",
       "       behavioral_avoidance  behavioral_face_mask  behavioral_wash_hands  \\\n",
       "count          26499.000000          26688.000000           26665.000000   \n",
       "mean               0.725612              0.068982               0.825614   \n",
       "std                0.446214              0.253429               0.379448   \n",
       "min                0.000000              0.000000               0.000000   \n",
       "25%                0.000000              0.000000               1.000000   \n",
       "50%                1.000000              0.000000               1.000000   \n",
       "75%                1.000000              0.000000               1.000000   \n",
       "max                1.000000              1.000000               1.000000   \n",
       "\n",
       "       behavioral_large_gatherings  behavioral_outside_home  \\\n",
       "count                  26620.00000             26625.000000   \n",
       "mean                       0.35864                 0.337315   \n",
       "std                        0.47961                 0.472802   \n",
       "min                        0.00000                 0.000000   \n",
       "25%                        0.00000                 0.000000   \n",
       "50%                        0.00000                 0.000000   \n",
       "75%                        1.00000                 1.000000   \n",
       "max                        1.00000                 1.000000   \n",
       "\n",
       "       behavioral_touch_face  ...  health_worker  health_insurance  \\\n",
       "count           26579.000000  ...   25903.000000       14433.00000   \n",
       "mean                0.677264  ...       0.111918           0.87972   \n",
       "std                 0.467531  ...       0.315271           0.32530   \n",
       "min                 0.000000  ...       0.000000           0.00000   \n",
       "25%                 0.000000  ...       0.000000           1.00000   \n",
       "50%                 1.000000  ...       0.000000           1.00000   \n",
       "75%                 1.000000  ...       0.000000           1.00000   \n",
       "max                 1.000000  ...       1.000000           1.00000   \n",
       "\n",
       "       opinion_h1n1_vacc_effective  opinion_h1n1_risk  \\\n",
       "count                 26316.000000       26319.000000   \n",
       "mean                      3.850623           2.342566   \n",
       "std                       1.007436           1.285539   \n",
       "min                       1.000000           1.000000   \n",
       "25%                       3.000000           1.000000   \n",
       "50%                       4.000000           2.000000   \n",
       "75%                       5.000000           4.000000   \n",
       "max                       5.000000           5.000000   \n",
       "\n",
       "       opinion_h1n1_sick_from_vacc  opinion_seas_vacc_effective  \\\n",
       "count                 26312.000000                 26245.000000   \n",
       "mean                      2.357670                     4.025986   \n",
       "std                       1.362766                     1.086565   \n",
       "min                       1.000000                     1.000000   \n",
       "25%                       1.000000                     4.000000   \n",
       "50%                       2.000000                     4.000000   \n",
       "75%                       4.000000                     5.000000   \n",
       "max                       5.000000                     5.000000   \n",
       "\n",
       "       opinion_seas_risk  opinion_seas_sick_from_vacc  household_adults  \\\n",
       "count       26193.000000                 26170.000000      26458.000000   \n",
       "mean            2.719162                     2.118112          0.886499   \n",
       "std             1.385055                     1.332950          0.753422   \n",
       "min             1.000000                     1.000000          0.000000   \n",
       "25%             2.000000                     1.000000          0.000000   \n",
       "50%             2.000000                     2.000000          1.000000   \n",
       "75%             4.000000                     4.000000          1.000000   \n",
       "max             5.000000                     5.000000          3.000000   \n",
       "\n",
       "       household_children  \n",
       "count        26458.000000  \n",
       "mean             0.534583  \n",
       "std              0.928173  \n",
       "min              0.000000  \n",
       "25%              0.000000  \n",
       "50%              0.000000  \n",
       "75%              1.000000  \n",
       "max              3.000000  \n",
       "\n",
       "[8 rows x 24 columns]"
      ]
     },
     "execution_count": 15,
     "metadata": {},
     "output_type": "execute_result"
    }
   ],
   "source": [
    "flushotTrainData.describe()"
   ]
  },
  {
   "cell_type": "markdown",
   "metadata": {},
   "source": [
    "**Exploring the flu shot datasets**\n",
    "\n",
    "*This exploration is partly inspired by the walk-through provided Jayqi on the driven data site. So you may see some similarities*\n",
    "\n",
    "**We start off by exploring the flu shot labels**\n",
    "\n",
    "*The idea is to understand the distribution of the labels (two target variables)*"
   ]
  },
  {
   "cell_type": "code",
   "execution_count": 16,
   "metadata": {
    "ExecuteTime": {
     "end_time": "2020-05-30T16:47:01.644696Z",
     "start_time": "2020-05-30T16:47:00.651778Z"
    }
   },
   "outputs": [
    {
     "data": {
      "image/png": "[encoded data removed]",
      "text/plain": [
       "<Figure size 432x288 with 2 Axes>"
      ]
     },
     "metadata": {
      "needs_background": "light"
     },
     "output_type": "display_data"
    }
   ],
   "source": [
    "fig, ax = plt.subplots(2, 1, sharex=True) # creating a figure a set of subplots\n",
    "# sharex=True means the x and y axis will be shared among subplots\n",
    "\n",
    "n_obs = flushotDataLabels.shape[0] # The number of rows of in the label data set\n",
    "\n",
    "(flushotDataLabels['h1n1_vaccine']\n",
    "    .value_counts()\n",
    "    .div(n_obs)\n",
    "    .plot.barh(title=\"Proportion of H1N1 Vaccine\", ax=ax[0])\n",
    ")\n",
    "ax[0].set_ylabel(\"h1n1_vaccine\")\n",
    "\n",
    "(flushotDataLabels['seasonal_vaccine']\n",
    "    .value_counts()\n",
    "    .div(n_obs)\n",
    "    .plot.barh(title=\"Proportion of Seasonal Vaccine\", ax=ax[1])\n",
    ")\n",
    "ax[1].set_ylabel(\"seasonal_vaccine\")\n",
    "\n",
    "fig.tight_layout()"
   ]
  },
  {
   "cell_type": "markdown",
   "metadata": {},
   "source": [
    "**Observations**\n",
    "\n",
    "*1. About 80% of respondents did not receive the H1N1 vaccine* \n",
    "\n",
    "*2. The difference in respondents who received and did not receive the Seasonal vaccine is not so significant*"
   ]
  },
  {
   "cell_type": "code",
   "execution_count": 17,
   "metadata": {
    "ExecuteTime": {
     "end_time": "2020-05-30T16:47:01.774006Z",
     "start_time": "2020-05-30T16:47:01.648314Z"
    }
   },
   "outputs": [
    {
     "data": {
      "text/html": [
       "<div>\n",
       "<style scoped>\n",
       "    .dataframe tbody tr th:only-of-type {\n",
       "        vertical-align: middle;\n",
       "    }\n",
       "\n",
       "    .dataframe tbody tr th {\n",
       "        vertical-align: top;\n",
       "    }\n",
       "\n",
       "    .dataframe thead th {\n",
       "        text-align: right;\n",
       "    }\n",
       "</style>\n",
       "<table border=\"1\" class=\"dataframe\">\n",
       "  <thead>\n",
       "    <tr style=\"text-align: right;\">\n",
       "      <th>seasonal_vaccine</th>\n",
       "      <th>0</th>\n",
       "      <th>1</th>\n",
       "      <th>All</th>\n",
       "    </tr>\n",
       "    <tr>\n",
       "      <th>h1n1_vaccine</th>\n",
       "      <th></th>\n",
       "      <th></th>\n",
       "      <th></th>\n",
       "    </tr>\n",
       "  </thead>\n",
       "  <tbody>\n",
       "    <tr>\n",
       "      <th>0</th>\n",
       "      <td>0.497810</td>\n",
       "      <td>0.289737</td>\n",
       "      <td>0.787546</td>\n",
       "    </tr>\n",
       "    <tr>\n",
       "      <th>1</th>\n",
       "      <td>0.036582</td>\n",
       "      <td>0.175871</td>\n",
       "      <td>0.212454</td>\n",
       "    </tr>\n",
       "    <tr>\n",
       "      <th>All</th>\n",
       "      <td>0.534392</td>\n",
       "      <td>0.465608</td>\n",
       "      <td>1.000000</td>\n",
       "    </tr>\n",
       "  </tbody>\n",
       "</table>\n",
       "</div>"
      ],
      "text/plain": [
       "seasonal_vaccine         0         1       All\n",
       "h1n1_vaccine                                  \n",
       "0                 0.497810  0.289737  0.787546\n",
       "1                 0.036582  0.175871  0.212454\n",
       "All               0.534392  0.465608  1.000000"
      ]
     },
     "execution_count": 17,
     "metadata": {},
     "output_type": "execute_result"
    }
   ],
   "source": [
    "pd.crosstab(\n",
    "    flushotDataLabels[\"h1n1_vaccine\"], \n",
    "    flushotDataLabels[\"seasonal_vaccine\"], \n",
    "    margins=True,\n",
    "    normalize=True\n",
    ")"
   ]
  },
  {
   "cell_type": "markdown",
   "metadata": {},
   "source": [
    "**pd.crosstab function computes a simple cross tabulation of two (or more) factors. In this case, both target variables**\n",
    "\n",
    "**Most people who got an H1N1 flu vaccine also got the seasonal flu vaccine. While a minority of people who got the seasonal vaccine got the H1N1 vaccine, they got the H1N1 vaccine at a higher rate than those who did not get the seasonal vaccine**"
   ]
  },
  {
   "cell_type": "code",
   "execution_count": 18,
   "metadata": {
    "ExecuteTime": {
     "end_time": "2020-05-30T16:47:01.801260Z",
     "start_time": "2020-05-30T16:47:01.777857Z"
    }
   },
   "outputs": [
    {
     "data": {
      "text/plain": [
       "0.3771426530614468"
      ]
     },
     "execution_count": 18,
     "metadata": {},
     "output_type": "execute_result"
    }
   ],
   "source": [
    "# Phi Coefficient is the same as Pearson for two binary variables\n",
    "(flushotDataLabels[\"h1n1_vaccine\"]\n",
    "     .corr(flushotDataLabels[\"seasonal_vaccine\"], method=\"pearson\")\n",
    ")"
   ]
  },
  {
   "cell_type": "markdown",
   "metadata": {},
   "source": [
    "**The Phi Coefficient is a measure of association between two binary variables**\n",
    "\n",
    "**At least one variable is a nominal variable or both variables are dichotomous variables.**\n",
    "\n",
    "**The phi coefficient is a symmetrical statistic, which means the independent variable and dependent variables are interchangeable.The interpretation for the phi coefficient is similar to the Pearson Correlation Coefficient. The range is from -1 to 1, where:\n",
    "\n",
    "*0 is no relationship.*\n",
    "\n",
    "*1 is a perfect positive relationship: most of your data falls along the diagonal cells.*\n",
    "\n",
    "*-1 is a perfect negative relationship: most of your data is not on the diagonal.*"
   ]
  },
  {
   "cell_type": "markdown",
   "metadata": {},
   "source": [
    "**What is the interpretation of 0.3771426530614468?**\n",
    "\n",
    "**Here is a list of Pearson Correlation Coefficient:**\n",
    "\t\n",
    "+.70 or higher\tVery strong positive relationship\n",
    "\n",
    "+.40 to +.69\tStrong positive relationship\n",
    "\n",
    "+.30 to +.39\tModerate positive relationship\n",
    "\n",
    "+.20 to +.29\tweak positive relationship\n",
    "\n",
    "+.01 to +.19\tNo or negligible relationship\n",
    "\n",
    "0\tNo relationship\n",
    "\n",
    "-.01 to -.19\tNo or negligible relationship\n",
    "\n",
    "-.20 to -.29\tweak negative relationship\n",
    "\n",
    "-.30 to -.39\tModerate negative relationship\n",
    "\n",
    "-.40 to -.69\tStrong negative relationship\n",
    "\n",
    "-.70 or higher\tVery strong negative relationship\n",
    "\n",
    "**So there is a moderate positive relationship between the two target variables** "
   ]
  },
  {
   "cell_type": "code",
   "execution_count": null,
   "metadata": {},
   "outputs": [],
   "source": []
  }
 ],
 "metadata": {
  "kernelspec": {
   "display_name": "Python 3",
   "language": "python",
   "name": "python3"
  },
  "language_info": {
   "codemirror_mode": {
    "name": "ipython",
    "version": 3
   },
   "file_extension": ".py",
   "mimetype": "text/x-python",
   "name": "python",
   "nbconvert_exporter": "python",
   "pygments_lexer": "ipython3",
   "version": "3.7.7"
  },
  "latex_envs": {
   "LaTeX_envs_menu_present": true,
   "autoclose": false,
   "autocomplete": true,
   "bibliofile": "biblio.bib",
   "cite_by": "apalike",
   "current_citInitial": 1,
   "eqLabelWithNumbers": true,
   "eqNumInitial": 1,
   "hotkeys": {
    "equation": "Ctrl-E",
    "itemize": "Ctrl-I"
   },
   "labels_anchors": false,
   "latex_user_defs": false,
   "report_style_numbering": false,
   "user_envs_cfg": false
  },
  "notify_time": "5",
  "toc": {
   "base_numbering": 1,
   "nav_menu": {},
   "number_sections": true,
   "sideBar": true,
   "skip_h1_title": false,
   "title_cell": "Table of Contents",
   "title_sidebar": "Contents",
   "toc_cell": false,
   "toc_position": {},
   "toc_section_display": true,
   "toc_window_display": false
  },
  "varInspector": {
   "cols": {
    "lenName": 16,
    "lenType": 16,
    "lenVar": 40
   },
   "kernels_config": {
    "python": {
     "delete_cmd_postfix": "",
     "delete_cmd_prefix": "del ",
     "library": "var_list.py",
     "varRefreshCmd": "print(var_dic_list())"
    },
    "r": {
     "delete_cmd_postfix": ") ",
     "delete_cmd_prefix": "rm(",
     "library": "var_list.r",
     "varRefreshCmd": "cat(var_dic_list()) "
    }
   },
   "types_to_exclude": [
    "module",
    "function",
    "builtin_function_or_method",
    "instance",
    "_Feature"
   ],
   "window_display": false
  }
 },
 "nbformat": 4,
 "nbformat_minor": 4
}
